{
 "cells": [
  {
   "cell_type": "code",
   "execution_count": 7,
   "metadata": {
    "collapsed": false
   },
   "outputs": [
    {
     "name": "stdout",
     "output_type": "stream",
     "text": [
      "[ 165.88672517  323.38092265  902.92776254   75.           80.           89.\n",
      "  137.          132.4         128.        ]\n"
     ]
    }
   ],
   "source": [
    "import ctypes\n",
    "lb = ctypes.CDLL('T1map.dll')\n",
    "lib = ctypes.WinDLL(None, handle=lb._handle)\n",
    "# Access the mandelbrot function.\n",
    "T1map = lib.T1map\n",
    "\n",
    "from numpy.ctypeslib import ndpointer\n",
    "# Define the types of the output and arguments of this function.\n",
    "T1map.restype = None\n",
    "T1map.argtypes = [ndpointer(ctypes.c_double), ndpointer(ctypes.c_double),\n",
    "                       ndpointer(ctypes.c_double)]\n",
    "\n",
    "\n",
    "import numpy as np\n",
    "# We initialize an empty array.\n",
    "\n",
    "#TI= 120 220 370 1130 1168 1233 2115 2125 2145 3078 4035\n",
    "\n",
    "#SI= 114 87 56 75 80 89 137 132 128 151 168\n",
    "t=np.array([120.2, 220.3, 370.1, 1130.5, 1168, 1233, 2115, 2125, 2145, 3078, 4035],dtype=np.float64)\n",
    "y=np.array([114.2, 87., 56., 75., 80., 89., 137., 132.4, 128., 151, 168.5],dtype=np.float64)\n",
    "col = np.empty((1,11), dtype=np.double)\n",
    "# We execute the C function, which will update the array.\n",
    "T1map(t, y, col)\n",
    "temp=col.copy()\n",
    "from ctypes.wintypes import HMODULE\n",
    "ctypes.windll.kernel32.FreeLibrary.argtypes = [HMODULE]\n",
    "ctypes.windll.kernel32.FreeLibrary(lb._handle)\n",
    "print temp[0,0:9]"
   ]
  },
  {
   "cell_type": "code",
   "execution_count": null,
   "metadata": {
    "collapsed": true
   },
   "outputs": [],
   "source": []
  }
 ],
 "metadata": {
  "kernelspec": {
   "display_name": "Python 2",
   "language": "python",
   "name": "python2"
  },
  "language_info": {
   "codemirror_mode": {
    "name": "ipython",
    "version": 2
   },
   "file_extension": ".py",
   "mimetype": "text/x-python",
   "name": "python",
   "nbconvert_exporter": "python",
   "pygments_lexer": "ipython2",
   "version": "2.7.6"
  }
 },
 "nbformat": 4,
 "nbformat_minor": 0
}
