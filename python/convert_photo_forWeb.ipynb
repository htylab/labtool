{
 "cells": [
  {
   "cell_type": "code",
   "execution_count": 1,
   "id": "9fd206bc-b3b0-4438-a89b-47e3b487947f",
   "metadata": {},
   "outputs": [],
   "source": [
    "import glob"
   ]
  },
  {
   "cell_type": "code",
   "execution_count": 2,
   "id": "644b7eb8-2bf1-4123-9823-f5ecb61d39db",
   "metadata": {},
   "outputs": [],
   "source": [
    "ffs = glob.glob(r\"C:\\temp2\\webpics\\*\")\n",
    "\n",
    "\n",
    "\n",
    "\n"
   ]
  },
  {
   "cell_type": "code",
   "execution_count": 8,
   "id": "63762033-a411-471a-9291-c6f91df98055",
   "metadata": {},
   "outputs": [],
   "source": [
    "import imageio\n",
    "import numpy as np\n",
    "from skimage.transform import resize\n",
    "\n",
    "def convert_image_to_jpeg(input_path, output_path, width=800):\n",
    "    try:\n",
    "        # Read the image using imageio\n",
    "        img = imageio.imread(input_path)\n",
    "        \n",
    "        # Calculate the new height to preserve aspect ratio\n",
    "        aspect_ratio = img.shape[1] / img.shape[0]  # Original width / height\n",
    "        new_height = int(width / aspect_ratio)\n",
    "        \n",
    "        # Resize the image with the new dimensions\n",
    "        img_resized = resize(img, (new_height, width), anti_aliasing=True)\n",
    "        \n",
    "        # Convert the image to uint8 (required for saving as JPEG)\n",
    "        img_resized = (img_resized * 255).astype(np.uint8)\n",
    "        \n",
    "        # Save the image as JPEG using imageio\n",
    "        imageio.imwrite(output_path, img_resized, format='jpeg', quality=85)\n",
    "        print(f\"Converted and saved: {output_path}\")\n",
    "    except Exception as e:\n",
    "        print(f\"Failed to convert {input_path}: {e}\")"
   ]
  },
  {
   "cell_type": "code",
   "execution_count": 19,
   "id": "72fc5543-43e2-4fda-9c38-cd646054937f",
   "metadata": {},
   "outputs": [],
   "source": [
    "import imageio\n",
    "import numpy as np\n",
    "from skimage.transform import resize\n",
    "\n",
    "def convert_image_to_jpeg(input_path, output_path, target_width=1000, target_height=400):\n",
    "    try:\n",
    "        # 檢查是否為圖片文件類型\n",
    "        if not input_path.lower().endswith(('.png', '.jpg', '.jpeg', '.bmp', '.tif', '.tiff')):\n",
    "            print(f\"Skipping non-image file: {input_path}\")\n",
    "            return\n",
    "\n",
    "        # 讀取圖片\n",
    "        img = imageio.imread(input_path)\n",
    "        \n",
    "        # 如果圖片有多個通道，例如 TIFF，取第一個\n",
    "        if img.ndim == 3 and img.shape[2] > 3:\n",
    "            img = img[:, :, :3]\n",
    "\n",
    "        # 計算寬高比例，先將高度調整到300\n",
    "        aspect_ratio = img.shape[1] / img.shape[0]  # 原始寬度 / 高度\n",
    "        new_width = int(target_height * aspect_ratio)\n",
    "        \n",
    "        # 縮放圖片到新寬高 (new_width, target_height)\n",
    "        img_resized = resize(img, (target_height, new_width), anti_aliasing=True)\n",
    "        \n",
    "        # 若寬度大於800，中心裁切\n",
    "        if new_width > target_width:\n",
    "            start_x = (new_width - target_width) // 2\n",
    "            img_cropped = img_resized[:, start_x:start_x + target_width]\n",
    "        # 若寬度不足800，則左右填充\n",
    "        else:\n",
    "            pad_width = (target_width - new_width) // 2\n",
    "            img_cropped = np.pad(\n",
    "                img_resized, \n",
    "                ((0, 0), (pad_width, target_width - new_width - pad_width), (0, 0)), \n",
    "                mode='constant', \n",
    "                constant_values=255  # 白色背景\n",
    "            )\n",
    "\n",
    "        # 將圖片轉換為uint8格式，並儲存為JPEG\n",
    "        img_cropped = (img_cropped * 255).astype(np.uint8)\n",
    "        imageio.imwrite(output_path, img_cropped, format='jpeg', quality=95)\n",
    "        print(f\"Converted and saved: {output_path}\")\n",
    "    except Exception as e:\n",
    "        print(f\"Failed to convert {input_path}: {e}\")"
   ]
  },
  {
   "cell_type": "code",
   "execution_count": 20,
   "id": "16cb272d-0096-4899-8cd7-f82d203b36a9",
   "metadata": {},
   "outputs": [
    {
     "name": "stderr",
     "output_type": "stream",
     "text": [
      "C:\\Users\\tyhua\\AppData\\Local\\Temp\\ipykernel_24904\\2972983908.py:13: DeprecationWarning: Starting with ImageIO v3 the behavior of this function will switch to that of iio.v3.imread. To keep the current behavior (and make this warning disappear) use `import imageio.v2 as imageio` or call `imageio.v2.imread` directly.\n",
      "  img = imageio.imread(input_path)\n"
     ]
    },
    {
     "name": "stdout",
     "output_type": "stream",
     "text": [
      "Converted and saved: C:\\temp2\\jpg\\figure1.jpg\n",
      "Converted and saved: C:\\temp2\\jpg\\figure2.jpg\n",
      "Converted and saved: C:\\temp2\\jpg\\figure3.jpg\n",
      "Failed to convert C:\\temp2\\webpics\\figure2.tif: operands could not be broadcast together with remapped shapes [original->remapped]: (3,2)  and requested shape (2,2)\n",
      "Converted and saved: C:\\temp2\\jpg\\figure5.jpg\n",
      "Converted and saved: C:\\temp2\\jpg\\figure6.jpg\n",
      "Converted and saved: C:\\temp2\\jpg\\figure7.jpg\n",
      "Failed to convert C:\\temp2\\webpics\\figure5.tif: operands could not be broadcast together with remapped shapes [original->remapped]: (3,2)  and requested shape (2,2)\n",
      "Converted and saved: C:\\temp2\\jpg\\figure9.jpg\n",
      "Converted and saved: C:\\temp2\\jpg\\figure10.jpg\n",
      "Converted and saved: C:\\temp2\\jpg\\figure11.jpg\n",
      "Converted and saved: C:\\temp2\\jpg\\figure12.jpg\n",
      "Converted and saved: C:\\temp2\\jpg\\figure13.jpg\n",
      "Skipping non-image file: C:\\temp2\\webpics\\paper-001.zip\n",
      "Converted and saved: C:\\temp2\\jpg\\figure15.jpg\n"
     ]
    }
   ],
   "source": [
    "from os.path import join, isfile\n",
    "\n",
    "count = 0\n",
    "for f in ffs:\n",
    "    count += 1\n",
    "    convert_image_to_jpeg(f, join(r\"C:\\temp2\\jpg\", f'figure{count}.jpg'))\n",
    "\n",
    "# Add more calls as needed for additional files in the list"
   ]
  },
  {
   "cell_type": "code",
   "execution_count": null,
   "id": "80397426-726a-4bb6-979c-37eb77e9d324",
   "metadata": {},
   "outputs": [],
   "source": []
  }
 ],
 "metadata": {
  "kernelspec": {
   "display_name": "Python 3 (ipykernel)",
   "language": "python",
   "name": "python3"
  },
  "language_info": {
   "codemirror_mode": {
    "name": "ipython",
    "version": 3
   },
   "file_extension": ".py",
   "mimetype": "text/x-python",
   "name": "python",
   "nbconvert_exporter": "python",
   "pygments_lexer": "ipython3",
   "version": "3.11.5"
  }
 },
 "nbformat": 4,
 "nbformat_minor": 5
}
